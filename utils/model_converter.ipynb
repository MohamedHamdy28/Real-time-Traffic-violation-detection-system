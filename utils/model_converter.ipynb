{
 "cells": [
  {
   "cell_type": "code",
   "execution_count": null,
   "metadata": {},
   "outputs": [],
   "source": [
    "import torch\n",
    "import onnx\n",
    "import tensorflow as tf\n",
    "import onnx_tf\n",
    "from utils.raft import RAFT\n",
    "from argparse import Namespace\n",
    "\n",
    "args = Namespace(images_dir='test_video', output_dir='test_result')\n",
    "model = torch.nn.DataParallel(RAFT(args))\n",
    "model.load_state_dict(torch.load(\n",
    "    r'models/raft-things.pth'))\n",
    "model = model.module\n",
    "model.eval()\n",
    "input_shape = (1, 1, 320, 180)\n",
    "dummy_input = torch.randn(input_shape)\n",
    "onnx_model_path = 'models/raft.onnx'\n",
    "torch.onnx.export(model, dummy_input.to('cuda'), onnx_model_path,input_names = ['input'], verbose=False)\n"
   ]
  },
  {
   "cell_type": "code",
   "execution_count": null,
   "metadata": {},
   "outputs": [],
   "source": []
  }
 ],
 "metadata": {
  "language_info": {
   "name": "python"
  }
 },
 "nbformat": 4,
 "nbformat_minor": 2
}
